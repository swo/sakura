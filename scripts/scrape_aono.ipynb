{
 "cells": [
  {
   "cell_type": "code",
   "execution_count": null,
   "metadata": {},
   "outputs": [],
   "source": [
    "import polars as pl\n",
    "import pandas as pd\n",
    "import polars.selectors as cs"
   ]
  },
  {
   "cell_type": "code",
   "execution_count": null,
   "metadata": {},
   "outputs": [],
   "source": [
    "url_temp = \"https://www.ncei.noaa.gov/pub/data/paleo/historical/phenology/japan/LatestVersion/759Temp7.xls\"\n",
    "url_flower = \"https://www.ncei.noaa.gov/pub/data/paleo/historical/phenology/japan/LatestVersion/KyotoFullFlower7.xls\"\n",
    "\n",
    "temp_raw = pd.read_excel(url_temp, header=None)\n",
    "flower_raw = pd.read_excel(url_flower, header=None)"
   ]
  },
  {
   "cell_type": "code",
   "execution_count": null,
   "metadata": {},
   "outputs": [],
   "source": [
    "def map_null(x: pl.Series, value=-999.9):\n",
    "    return x.map_dict({value: None}, default=pl.first())\n",
    "\n",
    "\n",
    "# year, reconstructed temp, obs temp; -999.9 means no data\n",
    "temp = (\n",
    "    pl.from_pandas(temp_raw.loc[15:])\n",
    "    .rename({\"0\": \"year\", \"1\": \"temp_reconstructed\", \"2\": \"temp_observed\"})\n",
    "    .with_columns(cs.starts_with(\"temp_\").pipe(map_null))\n",
    "    .filter(\n",
    "        pl.col(\"temp_reconstructed\").is_not_null()\n",
    "        | pl.col(\"temp_observed\").is_not_null()\n",
    "    )\n",
    ")\n",
    "\n",
    "temp"
   ]
  },
  {
   "cell_type": "code",
   "execution_count": null,
   "metadata": {},
   "outputs": [],
   "source": [
    "def parse_date(year: pl.Series, monthday: pl.Series):\n",
    "    \"\"\"Given year like 821 and monthday like 411, produce 0821-04-11\"\"\"\n",
    "    monthday_str = monthday.cast(str)\n",
    "    month = pl.concat_str([pl.lit(\"0\"), monthday_str.str.slice(0, 1)])\n",
    "    day = monthday_str.str.slice(1, 2)\n",
    "    date = pl.concat_str([year, month, day], separator=\"-\").str.strptime(\n",
    "        pl.Date, \"%Y-%m-%d\"\n",
    "    )\n",
    "    return date\n",
    "\n",
    "\n",
    "def parse_day_of_year(year: pl.Series, doy: pl.Series):\n",
    "    \"\"\"\n",
    "    Given year like 821 and day of year like 3, return 0821-01-03\n",
    "\n",
    "    For this dataset, it gives the same result as using the monthday construct\n",
    "    \"\"\"\n",
    "    jan1 = pl.format(\"{}-01-01\", year).str.strptime(pl.Date, \"%Y-%m-%d\")\n",
    "    days = pl.format(\"{}d\", doy - 1)\n",
    "    return jan1.dt.offset_by(days)\n",
    "\n",
    "\n",
    "flower = (\n",
    "    pl.from_pandas(flower_raw.loc[26:])\n",
    "    .rename({\"0\": \"year\", \"1\": \"day_of_year\", \"2\": \"date_in_year\"})\n",
    "    .with_columns(date=parse_date(pl.col(\"year\"), pl.col(\"date_in_year\")))\n",
    "    .filter(pl.col(\"date\").is_not_null())\n",
    "    .select([\"year\", \"date\", \"day_of_year\"])\n",
    ")\n",
    "\n",
    "flower"
   ]
  },
  {
   "cell_type": "code",
   "execution_count": null,
   "metadata": {},
   "outputs": [],
   "source": [
    "df = flower.join(temp, on=\"year\", how=\"outer\", validate=\"1:1\")\n",
    "\n",
    "df.write_csv(\"data/aono.csv\")\n",
    "\n",
    "df"
   ]
  }
 ],
 "metadata": {
  "kernelspec": {
   "display_name": "base",
   "language": "python",
   "name": "python3"
  },
  "language_info": {
   "codemirror_mode": {
    "name": "ipython",
    "version": 3
   },
   "file_extension": ".py",
   "mimetype": "text/x-python",
   "name": "python",
   "nbconvert_exporter": "python",
   "pygments_lexer": "ipython3",
   "version": "3.8.16"
  }
 },
 "nbformat": 4,
 "nbformat_minor": 2
}
