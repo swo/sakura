{
 "cells": [
  {
   "cell_type": "code",
   "execution_count": null,
   "metadata": {},
   "outputs": [],
   "source": [
    "import urllib.request\n",
    "import pandas as pd\n",
    "import polars as pl"
   ]
  },
  {
   "cell_type": "code",
   "execution_count": null,
   "metadata": {},
   "outputs": [],
   "source": [
    "url = \"https://www.nps.gov/subjects/cherryblossom/bloom-watch.htm\"\n",
    "page = urllib.request.urlopen(url)\n",
    "html = page.read()"
   ]
  },
  {
   "cell_type": "code",
   "execution_count": null,
   "metadata": {},
   "outputs": [],
   "source": [
    "tables = pd.read_html(html, header=0)\n",
    "assert len(tables) == 1\n",
    "pd_df = tables[0]\n",
    "pd_df"
   ]
  },
  {
   "cell_type": "code",
   "execution_count": null,
   "metadata": {},
   "outputs": [],
   "source": [
    "stages = pd_df.columns[1:].to_list()\n",
    "stages_df = pl.DataFrame({\"stage_number\": range(len(stages)), \"stage\": stages})\n",
    "stages_df"
   ]
  },
  {
   "cell_type": "code",
   "execution_count": null,
   "metadata": {},
   "outputs": [],
   "source": [
    "def fix_2017_stars(df: pl.DataFrame) -> pl.DataFrame:\n",
    "    bad_rows = df.filter(pl.col(\"day\").str.contains(r\"\\*\"))\n",
    "    assert bad_rows.shape[0] == 2\n",
    "    assert (bad_rows[\"Year\"] == 2017).all()\n",
    "    return df.with_columns(pl.col(\"day\").str.replace(r\"\\*\", \"\"))\n",
    "\n",
    "\n",
    "df = (\n",
    "    pl.from_pandas(pd_df)\n",
    "    .melt(id_vars=\"Year\", variable_name=\"stage\")\n",
    "    .with_columns(\n",
    "        pl.col(\"value\")\n",
    "        .str.split_exact(by=\" \", n=1)\n",
    "        .struct.rename_fields([\"month\", \"day\"])\n",
    "    )\n",
    "    .unnest(\"value\")\n",
    "    # remove '*' from the two 2017 dates\n",
    "    .with_columns(pl.col(\"day\"))\n",
    "    .pipe(fix_2017_stars)\n",
    "    .with_columns(\n",
    "        pl.concat_str([pl.col(\"Year\"), pl.col(\"month\"), pl.col(\"day\")], separator=\"-\")\n",
    "        .alias(\"date\")\n",
    "        .str.strptime(pl.Date, \"%Y-%b-%d\")\n",
    "    )\n",
    "    .rename({\"Year\": \"year\"})\n",
    "    .select([\"year\", \"stage\", \"date\"])\n",
    ")\n",
    "\n",
    "df"
   ]
  },
  {
   "cell_type": "code",
   "execution_count": null,
   "metadata": {},
   "outputs": [],
   "source": [
    "# manually coded values\n",
    "df_manual = pl.DataFrame(\n",
    "    {\n",
    "        \"year\": [1990, 1958],\n",
    "        \"stage\": \"Peak Bloom\",\n",
    "        \"date\": [\"1990 March 15\", \"1958 April 18\"],\n",
    "    }\n",
    ").with_columns(pl.col(\"date\").str.strptime(pl.Date, \"%Y %B %d\"))\n",
    "\n",
    "df_manual"
   ]
  },
  {
   "cell_type": "code",
   "execution_count": null,
   "metadata": {},
   "outputs": [],
   "source": [
    "df_out = pl.concat([df_manual, df]).sort(\"year\", \"date\")\n",
    "\n",
    "df_out"
   ]
  },
  {
   "cell_type": "code",
   "execution_count": null,
   "metadata": {},
   "outputs": [],
   "source": [
    "stages_df.write_csv(\"data/nps_stages.csv\")\n",
    "df_out.write_csv(\"data/nps.csv\")"
   ]
  }
 ],
 "metadata": {
  "kernelspec": {
   "display_name": "base",
   "language": "python",
   "name": "python3"
  },
  "language_info": {
   "codemirror_mode": {
    "name": "ipython",
    "version": 3
   },
   "file_extension": ".py",
   "mimetype": "text/x-python",
   "name": "python",
   "nbconvert_exporter": "python",
   "pygments_lexer": "ipython3",
   "version": "3.8.16"
  }
 },
 "nbformat": 4,
 "nbformat_minor": 2
}
