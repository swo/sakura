{
 "cells": [
  {
   "cell_type": "code",
   "execution_count": 1,
   "metadata": {},
   "outputs": [],
   "source": [
    "import polars as pl"
   ]
  },
  {
   "cell_type": "code",
   "execution_count": 5,
   "metadata": {},
   "outputs": [
    {
     "data": {
      "text/html": [
       "<div><style>\n",
       ".dataframe > thead > tr,\n",
       ".dataframe > tbody > tr {\n",
       "  text-align: right;\n",
       "  white-space: pre-wrap;\n",
       "}\n",
       "</style>\n",
       "<small>shape: (5, 4)</small><table border=\"1\" class=\"dataframe\"><thead><tr><th>Year</th><th>Yoshino peak bloom date</th><th>Cherry blossom festival start date</th><th>Cherry blossom festival duration</th></tr><tr><td>i64</td><td>i64</td><td>i64</td><td>i64</td></tr></thead><tbody><tr><td>1921</td><td>79</td><td>null</td><td>null</td></tr><tr><td>1922</td><td>97</td><td>null</td><td>null</td></tr><tr><td>1923</td><td>99</td><td>null</td><td>null</td></tr><tr><td>1924</td><td>104</td><td>null</td><td>null</td></tr><tr><td>1925</td><td>86</td><td>null</td><td>null</td></tr></tbody></table></div>"
      ],
      "text/plain": [
       "shape: (5, 4)\n",
       "┌──────┬─────────────────────────┬───────────────────────────────────┬─────────────────────────┐\n",
       "│ Year ┆ Yoshino peak bloom date ┆ Cherry blossom festival start da… ┆ Cherry blossom festival │\n",
       "│ ---  ┆ ---                     ┆ ---                               ┆ duration                │\n",
       "│ i64  ┆ i64                     ┆ i64                               ┆ ---                     │\n",
       "│      ┆                         ┆                                   ┆ i64                     │\n",
       "╞══════╪═════════════════════════╪═══════════════════════════════════╪═════════════════════════╡\n",
       "│ 1921 ┆ 79                      ┆ null                              ┆ null                    │\n",
       "│ 1922 ┆ 97                      ┆ null                              ┆ null                    │\n",
       "│ 1923 ┆ 99                      ┆ null                              ┆ null                    │\n",
       "│ 1924 ┆ 104                     ┆ null                              ┆ null                    │\n",
       "│ 1925 ┆ 86                      ┆ null                              ┆ null                    │\n",
       "└──────┴─────────────────────────┴───────────────────────────────────┴─────────────────────────┘"
      ]
     },
     "execution_count": 5,
     "metadata": {},
     "output_type": "execute_result"
    }
   ],
   "source": [
    "url = \"https://www.epa.gov/system/files/other-files/2022-09/cherry-blossoms_fig-1.csv\"\n",
    "raw = pl.read_csv(url, skip_rows=6)\n",
    "raw.head()"
   ]
  },
  {
   "cell_type": "code",
   "execution_count": 12,
   "metadata": {},
   "outputs": [
    {
     "data": {
      "text/html": [
       "<div><style>\n",
       ".dataframe > thead > tr,\n",
       ".dataframe > tbody > tr {\n",
       "  text-align: right;\n",
       "  white-space: pre-wrap;\n",
       "}\n",
       "</style>\n",
       "<small>shape: (5, 2)</small><table border=\"1\" class=\"dataframe\"><thead><tr><th>year</th><th>date</th></tr><tr><td>i64</td><td>date</td></tr></thead><tbody><tr><td>1921</td><td>1921-03-21</td></tr><tr><td>1922</td><td>1922-04-08</td></tr><tr><td>1923</td><td>1923-04-10</td></tr><tr><td>1924</td><td>1924-04-14</td></tr><tr><td>1925</td><td>1925-03-28</td></tr></tbody></table></div>"
      ],
      "text/plain": [
       "shape: (5, 2)\n",
       "┌──────┬────────────┐\n",
       "│ year ┆ date       │\n",
       "│ ---  ┆ ---        │\n",
       "│ i64  ┆ date       │\n",
       "╞══════╪════════════╡\n",
       "│ 1921 ┆ 1921-03-21 │\n",
       "│ 1922 ┆ 1922-04-08 │\n",
       "│ 1923 ┆ 1923-04-10 │\n",
       "│ 1924 ┆ 1924-04-14 │\n",
       "│ 1925 ┆ 1925-03-28 │\n",
       "└──────┴────────────┘"
      ]
     },
     "execution_count": 12,
     "metadata": {},
     "output_type": "execute_result"
    }
   ],
   "source": [
    "data = (\n",
    "    raw\n",
    "    .with_columns(\n",
    "        pl.date(pl.col('Year'), 1, 1)\n",
    "        .dt.offset_by(pl.format('{}d', pl.col('Yoshino peak bloom date')))\n",
    "    )\n",
    "    .select(['Year', 'date'])\n",
    "    .rename({'Year': 'year'})\n",
    ")\n",
    "\n",
    "data.head()"
   ]
  },
  {
   "cell_type": "code",
   "execution_count": null,
   "metadata": {},
   "outputs": [],
   "source": [
    "data.write_csv(\"data/epa.csv\")"
   ]
  }
 ],
 "metadata": {
  "kernelspec": {
   "display_name": ".venv",
   "language": "python",
   "name": "python3"
  },
  "language_info": {
   "codemirror_mode": {
    "name": "ipython",
    "version": 3
   },
   "file_extension": ".py",
   "mimetype": "text/x-python",
   "name": "python",
   "nbconvert_exporter": "python",
   "pygments_lexer": "ipython3",
   "version": "3.10.13"
  }
 },
 "nbformat": 4,
 "nbformat_minor": 2
}
