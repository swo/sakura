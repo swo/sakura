{
 "cells": [
  {
   "cell_type": "markdown",
   "metadata": {},
   "source": [
    "# Scrape NOAA\n",
    "\n",
    "- Pull Climate Data Online (CDO) for daily mean temperatures in Washington, DC\n",
    "- Put the results in a pyarrow dataset at `data/cdo`"
   ]
  },
  {
   "cell_type": "code",
   "execution_count": null,
   "metadata": {},
   "outputs": [],
   "source": [
    "import requests\n",
    "import yaml\n",
    "import json\n",
    "import polars as pl\n",
    "import altair as alt\n",
    "import pyarrow as pa\n",
    "import pyarrow.dataset as ds\n",
    "\n",
    "with open(\"secrets.yaml\") as f:\n",
    "    secrets = yaml.safe_load(f)"
   ]
  },
  {
   "cell_type": "code",
   "execution_count": null,
   "metadata": {},
   "outputs": [],
   "source": [
    "def get_noaa(\n",
    "    startdate,\n",
    "    enddate,\n",
    "    limit,\n",
    "    datasetid=\"GHCND\",\n",
    "    datatypeid=\"TMIN\",\n",
    "    stationid=\"GHCND:USW00013743\",\n",
    "):\n",
    "    \"\"\"Get NOAA Climate Data Online data\"\"\"\n",
    "    headers = {\"token\": secrets[\"ncdc_key\"]}\n",
    "    r = requests.get(\n",
    "        \"\".join(\n",
    "            [\n",
    "                \"https://www.ncdc.noaa.gov/cdo-web/api/v2/data\",\n",
    "                f\"?datasetid={datasetid}\",\n",
    "                f\"&datatypeid={datatypeid}\",\n",
    "                f\"&stationid={stationid}\",\n",
    "                f\"&startdate={startdate}\",\n",
    "                f\"&enddate={enddate}\",\n",
    "                \"&units=metric\",\n",
    "                f\"&limit={limit}\",\n",
    "            ]\n",
    "        ),\n",
    "        headers=headers,\n",
    "    )\n",
    "\n",
    "    return r\n",
    "\n",
    "\n",
    "def get_temp_year(year):\n",
    "    \"\"\"For one year, get the daily temperature\"\"\"\n",
    "    startdate = f\"{year}-01-01\"\n",
    "    enddate = f\"{year}-12-31\"\n",
    "\n",
    "    r = get_noaa(startdate, enddate, 366)\n",
    "    assert r.status_code == 200\n",
    "    content = json.loads(r.content)[\"results\"]\n",
    "\n",
    "    return (\n",
    "        pl.from_dicts(content)\n",
    "        .with_columns(pl.col(\"date\").str.to_datetime().cast(pl.Date))\n",
    "        .with_columns(year=pl.col(\"date\").dt.year())\n",
    "        .select([\"year\", \"date\", \"value\"])\n",
    "    )"
   ]
  },
  {
   "cell_type": "code",
   "execution_count": null,
   "metadata": {},
   "outputs": [],
   "source": [
    "# as an example, get data from 2010\n",
    "data2010 = get_temp_year(2010)\n",
    "\n",
    "(alt.Chart(data2010.to_pandas()).encode(x=\"date\", y=\"value\").mark_line())"
   ]
  },
  {
   "cell_type": "code",
   "execution_count": null,
   "metadata": {},
   "outputs": [],
   "source": [
    "def read_data(path=\"data/cdo\") -> pl.LazyFrame:\n",
    "    df = pl.scan_pyarrow_dataset(\n",
    "        ds.dataset(path, format=\"parquet\", partitioning=\"hive\")\n",
    "    )\n",
    "\n",
    "    return df\n",
    "\n",
    "\n",
    "def write_data(df: pl.DataFrame, path=\"data/cdo\"):\n",
    "    ds.write_dataset(\n",
    "        df.to_arrow(),\n",
    "        path,\n",
    "        format=\"parquet\",\n",
    "        partitioning=ds.partitioning(\n",
    "            pa.schema([df.to_arrow().schema.field(\"year\")]), flavor=\"hive\"\n",
    "        ),\n",
    "        existing_data_behavior=\"delete_matching\",\n",
    "    )\n",
    "\n",
    "\n",
    "# bootstrap the dataset\n",
    "write_data(data2010)\n",
    "read_data().head(5).collect()"
   ]
  },
  {
   "cell_type": "code",
   "execution_count": null,
   "metadata": {},
   "outputs": [],
   "source": [
    "needed_years = range(2010, 2024)\n",
    "\n",
    "known_years = read_data().select([\"year\"]).unique().collect()[\"year\"].to_list()\n",
    "\n",
    "missing_years = set(needed_years) - set(known_years)\n",
    "\n",
    "if len(missing_years) > 0:\n",
    "    print(missing_years)\n",
    "\n",
    "    for year in missing_years:\n",
    "        print(year)\n",
    "        df = get_temp_year(year)\n",
    "        write_data(df)\n",
    "        print(\"done\")\n",
    "\n",
    "(\n",
    "    alt.Chart(read_data().take_every(10).collect().to_pandas())\n",
    "    .encode(x=\"date\", y=\"value\")\n",
    "    .mark_line()\n",
    ")"
   ]
  }
 ],
 "metadata": {
  "kernelspec": {
   "display_name": ".venv",
   "language": "python",
   "name": "python3"
  },
  "language_info": {
   "codemirror_mode": {
    "name": "ipython",
    "version": 3
   },
   "file_extension": ".py",
   "mimetype": "text/x-python",
   "name": "python",
   "nbconvert_exporter": "python",
   "pygments_lexer": "ipython3",
   "version": "3.10.12"
  }
 },
 "nbformat": 4,
 "nbformat_minor": 2
}
