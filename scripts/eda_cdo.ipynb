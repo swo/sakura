{
 "cells": [
  {
   "cell_type": "markdown",
   "metadata": {},
   "source": [
    "# EDA on CDO data\n",
    "\n",
    "- Start with `cdo.csv`\n",
    "- See what it has"
   ]
  },
  {
   "cell_type": "code",
   "execution_count": 17,
   "metadata": {},
   "outputs": [],
   "source": [
    "import polars as pl\n",
    "import altair as alt\n",
    "import polars.selectors as cs"
   ]
  },
  {
   "cell_type": "code",
   "execution_count": 9,
   "metadata": {},
   "outputs": [
    {
     "data": {
      "text/html": [
       "<div><style>\n",
       ".dataframe > thead > tr,\n",
       ".dataframe > tbody > tr {\n",
       "  text-align: right;\n",
       "  white-space: pre-wrap;\n",
       "}\n",
       "</style>\n",
       "<small>shape: (5, 6)</small><table border=\"1\" class=\"dataframe\"><thead><tr><th>STATION</th><th>NAME</th><th>DATE</th><th>TAVG</th><th>TMAX</th><th>TMIN</th></tr><tr><td>str</td><td>str</td><td>date</td><td>i64</td><td>i64</td><td>i64</td></tr></thead><tbody><tr><td>&quot;USW00013743&quot;</td><td>&quot;WASHINGTON REA…</td><td>1936-09-01</td><td>76</td><td>null</td><td>null</td></tr><tr><td>&quot;USW00013743&quot;</td><td>&quot;WASHINGTON REA…</td><td>1936-09-02</td><td>72</td><td>null</td><td>null</td></tr><tr><td>&quot;USW00013743&quot;</td><td>&quot;WASHINGTON REA…</td><td>1936-09-03</td><td>74</td><td>null</td><td>null</td></tr><tr><td>&quot;USW00013743&quot;</td><td>&quot;WASHINGTON REA…</td><td>1936-09-04</td><td>75</td><td>null</td><td>null</td></tr><tr><td>&quot;USW00013743&quot;</td><td>&quot;WASHINGTON REA…</td><td>1936-09-05</td><td>74</td><td>null</td><td>null</td></tr></tbody></table></div>"
      ],
      "text/plain": [
       "shape: (5, 6)\n",
       "┌─────────────┬───────────────────────────────────┬────────────┬──────┬──────┬──────┐\n",
       "│ STATION     ┆ NAME                              ┆ DATE       ┆ TAVG ┆ TMAX ┆ TMIN │\n",
       "│ ---         ┆ ---                               ┆ ---        ┆ ---  ┆ ---  ┆ ---  │\n",
       "│ str         ┆ str                               ┆ date       ┆ i64  ┆ i64  ┆ i64  │\n",
       "╞═════════════╪═══════════════════════════════════╪════════════╪══════╪══════╪══════╡\n",
       "│ USW00013743 ┆ WASHINGTON REAGAN NATIONAL AIRPO… ┆ 1936-09-01 ┆ 76   ┆ null ┆ null │\n",
       "│ USW00013743 ┆ WASHINGTON REAGAN NATIONAL AIRPO… ┆ 1936-09-02 ┆ 72   ┆ null ┆ null │\n",
       "│ USW00013743 ┆ WASHINGTON REAGAN NATIONAL AIRPO… ┆ 1936-09-03 ┆ 74   ┆ null ┆ null │\n",
       "│ USW00013743 ┆ WASHINGTON REAGAN NATIONAL AIRPO… ┆ 1936-09-04 ┆ 75   ┆ null ┆ null │\n",
       "│ USW00013743 ┆ WASHINGTON REAGAN NATIONAL AIRPO… ┆ 1936-09-05 ┆ 74   ┆ null ┆ null │\n",
       "└─────────────┴───────────────────────────────────┴────────────┴──────┴──────┴──────┘"
      ]
     },
     "execution_count": 9,
     "metadata": {},
     "output_type": "execute_result"
    }
   ],
   "source": [
    "raw = pl.read_csv('data/cdo.csv', try_parse_dates=True, dtypes={\"TMAX\": pl.Int64, \"TMIN\": pl.Int64})\n",
    "\n",
    "raw.head()"
   ]
  },
  {
   "cell_type": "code",
   "execution_count": 33,
   "metadata": {},
   "outputs": [
    {
     "name": "stdout",
     "output_type": "stream",
     "text": [
      "shape: (5, 4)\n",
      "┌──────┬──────┬──────┬──────┐\n",
      "│ year ┆ TAVG ┆ TMAX ┆ TMIN │\n",
      "│ ---  ┆ ---  ┆ ---  ┆ ---  │\n",
      "│ i32  ┆ u32  ┆ u32  ┆ u32  │\n",
      "╞══════╪══════╪══════╪══════╡\n",
      "│ 1968 ┆ 0    ┆ 366  ┆ 366  │\n",
      "│ 1974 ┆ 0    ┆ 365  ┆ 365  │\n",
      "│ 1977 ┆ 0    ┆ 365  ┆ 365  │\n",
      "│ 1995 ┆ 0    ┆ 365  ┆ 365  │\n",
      "│ 1989 ┆ 0    ┆ 365  ┆ 365  │\n",
      "└──────┴──────┴──────┴──────┘\n"
     ]
    },
    {
     "data": {
      "text/html": [
       "\n",
       "<style>\n",
       "  #altair-viz-8fd121e0a298448087a6ab0d610037f8.vega-embed {\n",
       "    width: 100%;\n",
       "    display: flex;\n",
       "  }\n",
       "\n",
       "  #altair-viz-8fd121e0a298448087a6ab0d610037f8.vega-embed details,\n",
       "  #altair-viz-8fd121e0a298448087a6ab0d610037f8.vega-embed details summary {\n",
       "    position: relative;\n",
       "  }\n",
       "</style>\n",
       "<div id=\"altair-viz-8fd121e0a298448087a6ab0d610037f8\"></div>\n",
       "<script type=\"text/javascript\">\n",
       "  var VEGA_DEBUG = (typeof VEGA_DEBUG == \"undefined\") ? {} : VEGA_DEBUG;\n",
       "  (function(spec, embedOpt){\n",
       "    let outputDiv = document.currentScript.previousElementSibling;\n",
       "    if (outputDiv.id !== \"altair-viz-8fd121e0a298448087a6ab0d610037f8\") {\n",
       "      outputDiv = document.getElementById(\"altair-viz-8fd121e0a298448087a6ab0d610037f8\");\n",
       "    }\n",
       "    const paths = {\n",
       "      \"vega\": \"https://cdn.jsdelivr.net/npm/vega@5?noext\",\n",
       "      \"vega-lib\": \"https://cdn.jsdelivr.net/npm/vega-lib?noext\",\n",
       "      \"vega-lite\": \"https://cdn.jsdelivr.net/npm/vega-lite@5.16.3?noext\",\n",
       "      \"vega-embed\": \"https://cdn.jsdelivr.net/npm/vega-embed@6?noext\",\n",
       "    };\n",
       "\n",
       "    function maybeLoadScript(lib, version) {\n",
       "      var key = `${lib.replace(\"-\", \"\")}_version`;\n",
       "      return (VEGA_DEBUG[key] == version) ?\n",
       "        Promise.resolve(paths[lib]) :\n",
       "        new Promise(function(resolve, reject) {\n",
       "          var s = document.createElement('script');\n",
       "          document.getElementsByTagName(\"head\")[0].appendChild(s);\n",
       "          s.async = true;\n",
       "          s.onload = () => {\n",
       "            VEGA_DEBUG[key] = version;\n",
       "            return resolve(paths[lib]);\n",
       "          };\n",
       "          s.onerror = () => reject(`Error loading script: ${paths[lib]}`);\n",
       "          s.src = paths[lib];\n",
       "        });\n",
       "    }\n",
       "\n",
       "    function showError(err) {\n",
       "      outputDiv.innerHTML = `<div class=\"error\" style=\"color:red;\">${err}</div>`;\n",
       "      throw err;\n",
       "    }\n",
       "\n",
       "    function displayChart(vegaEmbed) {\n",
       "      vegaEmbed(outputDiv, spec, embedOpt)\n",
       "        .catch(err => showError(`Javascript Error: ${err.message}<br>This usually means there's a typo in your chart specification. See the javascript console for the full traceback.`));\n",
       "    }\n",
       "\n",
       "    if(typeof define === \"function\" && define.amd) {\n",
       "      requirejs.config({paths});\n",
       "      require([\"vega-embed\"], displayChart, err => showError(`Error loading script: ${err.message}`));\n",
       "    } else {\n",
       "      maybeLoadScript(\"vega\", \"5\")\n",
       "        .then(() => maybeLoadScript(\"vega-lite\", \"5.16.3\"))\n",
       "        .then(() => maybeLoadScript(\"vega-embed\", \"6\"))\n",
       "        .catch(showError)\n",
       "        .then(() => displayChart(vegaEmbed));\n",
       "    }\n",
       "  })({\"config\": {\"view\": {\"continuousWidth\": 300, \"continuousHeight\": 300}}, \"data\": {\"name\": \"data-f5d5500a07af4a33fbb2d6fc49c151c9\"}, \"mark\": {\"type\": \"line\"}, \"encoding\": {\"color\": {\"field\": \"variable\", \"type\": \"nominal\"}, \"x\": {\"field\": \"year\", \"type\": \"quantitative\"}, \"y\": {\"field\": \"value\", \"type\": \"quantitative\"}}, \"$schema\": \"https://vega.github.io/schema/vega-lite/v5.16.3.json\", \"datasets\": {\"data-f5d5500a07af4a33fbb2d6fc49c151c9\": [{\"year\": 1968, \"variable\": \"TAVG\", \"value\": 0}, {\"year\": 1974, \"variable\": \"TAVG\", \"value\": 0}, {\"year\": 1977, \"variable\": \"TAVG\", \"value\": 0}, {\"year\": 1995, \"variable\": \"TAVG\", \"value\": 0}, {\"year\": 1989, \"variable\": \"TAVG\", \"value\": 0}, {\"year\": 2013, \"variable\": \"TAVG\", \"value\": 275}, {\"year\": 1983, \"variable\": \"TAVG\", \"value\": 0}, {\"year\": 1992, \"variable\": \"TAVG\", \"value\": 0}, {\"year\": 1986, \"variable\": \"TAVG\", \"value\": 0}, {\"year\": 2001, \"variable\": \"TAVG\", \"value\": 363}, {\"year\": 2010, \"variable\": \"TAVG\", \"value\": 0}, {\"year\": 1971, \"variable\": \"TAVG\", \"value\": 0}, {\"year\": 1980, \"variable\": \"TAVG\", \"value\": 0}, {\"year\": 1998, \"variable\": \"TAVG\", \"value\": 271}, {\"year\": 2007, \"variable\": \"TAVG\", \"value\": 0}, {\"year\": 2004, \"variable\": \"TAVG\", \"value\": 366}, {\"year\": 2019, \"variable\": \"TAVG\", \"value\": 365}, {\"year\": 2022, \"variable\": \"TAVG\", \"value\": 365}, {\"year\": 2016, \"variable\": \"TAVG\", \"value\": 366}, {\"year\": 1981, \"variable\": \"TAVG\", \"value\": 0}, {\"year\": 1945, \"variable\": \"TAVG\", \"value\": 181}, {\"year\": 1948, \"variable\": \"TAVG\", \"value\": 0}, {\"year\": 1969, \"variable\": \"TAVG\", \"value\": 0}, {\"year\": 1951, \"variable\": \"TAVG\", \"value\": 0}, {\"year\": 1975, \"variable\": \"TAVG\", \"value\": 0}, {\"year\": 1957, \"variable\": \"TAVG\", \"value\": 0}, {\"year\": 1972, \"variable\": \"TAVG\", \"value\": 0}, {\"year\": 1963, \"variable\": \"TAVG\", \"value\": 0}, {\"year\": 1936, \"variable\": \"TAVG\", \"value\": 122}, {\"year\": 1939, \"variable\": \"TAVG\", \"value\": 365}, {\"year\": 1978, \"variable\": \"TAVG\", \"value\": 0}, {\"year\": 1954, \"variable\": \"TAVG\", \"value\": 0}, {\"year\": 1966, \"variable\": \"TAVG\", \"value\": 0}, {\"year\": 1960, \"variable\": \"TAVG\", \"value\": 0}, {\"year\": 1942, \"variable\": \"TAVG\", \"value\": 365}, {\"year\": 2008, \"variable\": \"TAVG\", \"value\": 0}, {\"year\": 2002, \"variable\": \"TAVG\", \"value\": 364}, {\"year\": 1996, \"variable\": \"TAVG\", \"value\": 0}, {\"year\": 1987, \"variable\": \"TAVG\", \"value\": 0}, {\"year\": 1984, \"variable\": \"TAVG\", \"value\": 0}, {\"year\": 2014, \"variable\": \"TAVG\", \"value\": 365}, {\"year\": 1990, \"variable\": \"TAVG\", \"value\": 0}, {\"year\": 1993, \"variable\": \"TAVG\", \"value\": 0}, {\"year\": 1999, \"variable\": \"TAVG\", \"value\": 365}, {\"year\": 2023, \"variable\": \"TAVG\", \"value\": 121}, {\"year\": 2017, \"variable\": \"TAVG\", \"value\": 181}, {\"year\": 2020, \"variable\": \"TAVG\", \"value\": 366}, {\"year\": 2011, \"variable\": \"TAVG\", \"value\": 0}, {\"year\": 2005, \"variable\": \"TAVG\", \"value\": 211}, {\"year\": 1937, \"variable\": \"TAVG\", \"value\": 365}, {\"year\": 1943, \"variable\": \"TAVG\", \"value\": 365}, {\"year\": 1940, \"variable\": \"TAVG\", \"value\": 366}, {\"year\": 1949, \"variable\": \"TAVG\", \"value\": 0}, {\"year\": 1946, \"variable\": \"TAVG\", \"value\": 0}, {\"year\": 1982, \"variable\": \"TAVG\", \"value\": 0}, {\"year\": 1967, \"variable\": \"TAVG\", \"value\": 0}, {\"year\": 1988, \"variable\": \"TAVG\", \"value\": 0}, {\"year\": 1973, \"variable\": \"TAVG\", \"value\": 0}, {\"year\": 1976, \"variable\": \"TAVG\", \"value\": 0}, {\"year\": 1991, \"variable\": \"TAVG\", \"value\": 0}, {\"year\": 1964, \"variable\": \"TAVG\", \"value\": 0}, {\"year\": 1952, \"variable\": \"TAVG\", \"value\": 0}, {\"year\": 1979, \"variable\": \"TAVG\", \"value\": 0}, {\"year\": 1955, \"variable\": \"TAVG\", \"value\": 0}, {\"year\": 1985, \"variable\": \"TAVG\", \"value\": 0}, {\"year\": 1958, \"variable\": \"TAVG\", \"value\": 0}, {\"year\": 1961, \"variable\": \"TAVG\", \"value\": 0}, {\"year\": 1970, \"variable\": \"TAVG\", \"value\": 0}, {\"year\": 1994, \"variable\": \"TAVG\", \"value\": 0}, {\"year\": 1997, \"variable\": \"TAVG\", \"value\": 0}, {\"year\": 2021, \"variable\": \"TAVG\", \"value\": 365}, {\"year\": 2000, \"variable\": \"TAVG\", \"value\": 366}, {\"year\": 2006, \"variable\": \"TAVG\", \"value\": 0}, {\"year\": 2018, \"variable\": \"TAVG\", \"value\": 365}, {\"year\": 2003, \"variable\": \"TAVG\", \"value\": 365}, {\"year\": 2015, \"variable\": \"TAVG\", \"value\": 365}, {\"year\": 2012, \"variable\": \"TAVG\", \"value\": 0}, {\"year\": 2009, \"variable\": \"TAVG\", \"value\": 0}, {\"year\": 2024, \"variable\": \"TAVG\", \"value\": 55}, {\"year\": 1941, \"variable\": \"TAVG\", \"value\": 365}, {\"year\": 1956, \"variable\": \"TAVG\", \"value\": 0}, {\"year\": 1944, \"variable\": \"TAVG\", \"value\": 366}, {\"year\": 1959, \"variable\": \"TAVG\", \"value\": 0}, {\"year\": 1950, \"variable\": \"TAVG\", \"value\": 0}, {\"year\": 1938, \"variable\": \"TAVG\", \"value\": 365}, {\"year\": 1965, \"variable\": \"TAVG\", \"value\": 0}, {\"year\": 1947, \"variable\": \"TAVG\", \"value\": 0}, {\"year\": 1962, \"variable\": \"TAVG\", \"value\": 0}, {\"year\": 1953, \"variable\": \"TAVG\", \"value\": 0}, {\"year\": 1968, \"variable\": \"TMAX\", \"value\": 366}, {\"year\": 1974, \"variable\": \"TMAX\", \"value\": 365}, {\"year\": 1977, \"variable\": \"TMAX\", \"value\": 365}, {\"year\": 1995, \"variable\": \"TMAX\", \"value\": 365}, {\"year\": 1989, \"variable\": \"TMAX\", \"value\": 365}, {\"year\": 2013, \"variable\": \"TMAX\", \"value\": 365}, {\"year\": 1983, \"variable\": \"TMAX\", \"value\": 365}, {\"year\": 1992, \"variable\": \"TMAX\", \"value\": 366}, {\"year\": 1986, \"variable\": \"TMAX\", \"value\": 365}, {\"year\": 2001, \"variable\": \"TMAX\", \"value\": 365}, {\"year\": 2010, \"variable\": \"TMAX\", \"value\": 365}, {\"year\": 1971, \"variable\": \"TMAX\", \"value\": 365}, {\"year\": 1980, \"variable\": \"TMAX\", \"value\": 366}, {\"year\": 1998, \"variable\": \"TMAX\", \"value\": 365}, {\"year\": 2007, \"variable\": \"TMAX\", \"value\": 365}, {\"year\": 2004, \"variable\": \"TMAX\", \"value\": 366}, {\"year\": 2019, \"variable\": \"TMAX\", \"value\": 365}, {\"year\": 2022, \"variable\": \"TMAX\", \"value\": 365}, {\"year\": 2016, \"variable\": \"TMAX\", \"value\": 366}, {\"year\": 1981, \"variable\": \"TMAX\", \"value\": 365}, {\"year\": 1945, \"variable\": \"TMAX\", \"value\": 365}, {\"year\": 1948, \"variable\": \"TMAX\", \"value\": 366}, {\"year\": 1969, \"variable\": \"TMAX\", \"value\": 365}, {\"year\": 1951, \"variable\": \"TMAX\", \"value\": 365}, {\"year\": 1975, \"variable\": \"TMAX\", \"value\": 365}, {\"year\": 1957, \"variable\": \"TMAX\", \"value\": 365}, {\"year\": 1972, \"variable\": \"TMAX\", \"value\": 366}, {\"year\": 1963, \"variable\": \"TMAX\", \"value\": 365}, {\"year\": 1936, \"variable\": \"TMAX\", \"value\": 0}, {\"year\": 1939, \"variable\": \"TMAX\", \"value\": 0}, {\"year\": 1978, \"variable\": \"TMAX\", \"value\": 365}, {\"year\": 1954, \"variable\": \"TMAX\", \"value\": 365}, {\"year\": 1966, \"variable\": \"TMAX\", \"value\": 365}, {\"year\": 1960, \"variable\": \"TMAX\", \"value\": 366}, {\"year\": 1942, \"variable\": \"TMAX\", \"value\": 365}, {\"year\": 2008, \"variable\": \"TMAX\", \"value\": 366}, {\"year\": 2002, \"variable\": \"TMAX\", \"value\": 365}, {\"year\": 1996, \"variable\": \"TMAX\", \"value\": 366}, {\"year\": 1987, \"variable\": \"TMAX\", \"value\": 365}, {\"year\": 1984, \"variable\": \"TMAX\", \"value\": 366}, {\"year\": 2014, \"variable\": \"TMAX\", \"value\": 365}, {\"year\": 1990, \"variable\": \"TMAX\", \"value\": 365}, {\"year\": 1993, \"variable\": \"TMAX\", \"value\": 365}, {\"year\": 1999, \"variable\": \"TMAX\", \"value\": 365}, {\"year\": 2023, \"variable\": \"TMAX\", \"value\": 365}, {\"year\": 2017, \"variable\": \"TMAX\", \"value\": 365}, {\"year\": 2020, \"variable\": \"TMAX\", \"value\": 366}, {\"year\": 2011, \"variable\": \"TMAX\", \"value\": 365}, {\"year\": 2005, \"variable\": \"TMAX\", \"value\": 365}, {\"year\": 1937, \"variable\": \"TMAX\", \"value\": 0}, {\"year\": 1943, \"variable\": \"TMAX\", \"value\": 365}, {\"year\": 1940, \"variable\": \"TMAX\", \"value\": 0}, {\"year\": 1949, \"variable\": \"TMAX\", \"value\": 365}, {\"year\": 1946, \"variable\": \"TMAX\", \"value\": 365}, {\"year\": 1982, \"variable\": \"TMAX\", \"value\": 365}, {\"year\": 1967, \"variable\": \"TMAX\", \"value\": 365}, {\"year\": 1988, \"variable\": \"TMAX\", \"value\": 366}, {\"year\": 1973, \"variable\": \"TMAX\", \"value\": 365}, {\"year\": 1976, \"variable\": \"TMAX\", \"value\": 366}, {\"year\": 1991, \"variable\": \"TMAX\", \"value\": 365}, {\"year\": 1964, \"variable\": \"TMAX\", \"value\": 366}, {\"year\": 1952, \"variable\": \"TMAX\", \"value\": 366}, {\"year\": 1979, \"variable\": \"TMAX\", \"value\": 365}, {\"year\": 1955, \"variable\": \"TMAX\", \"value\": 365}, {\"year\": 1985, \"variable\": \"TMAX\", \"value\": 365}, {\"year\": 1958, \"variable\": \"TMAX\", \"value\": 365}, {\"year\": 1961, \"variable\": \"TMAX\", \"value\": 365}, {\"year\": 1970, \"variable\": \"TMAX\", \"value\": 365}, {\"year\": 1994, \"variable\": \"TMAX\", \"value\": 365}, {\"year\": 1997, \"variable\": \"TMAX\", \"value\": 365}, {\"year\": 2021, \"variable\": \"TMAX\", \"value\": 365}, {\"year\": 2000, \"variable\": \"TMAX\", \"value\": 366}, {\"year\": 2006, \"variable\": \"TMAX\", \"value\": 365}, {\"year\": 2018, \"variable\": \"TMAX\", \"value\": 365}, {\"year\": 2003, \"variable\": \"TMAX\", \"value\": 365}, {\"year\": 2015, \"variable\": \"TMAX\", \"value\": 365}, {\"year\": 2012, \"variable\": \"TMAX\", \"value\": 366}, {\"year\": 2009, \"variable\": \"TMAX\", \"value\": 365}, {\"year\": 2024, \"variable\": \"TMAX\", \"value\": 55}, {\"year\": 1941, \"variable\": \"TMAX\", \"value\": 199}, {\"year\": 1956, \"variable\": \"TMAX\", \"value\": 366}, {\"year\": 1944, \"variable\": \"TMAX\", \"value\": 366}, {\"year\": 1959, \"variable\": \"TMAX\", \"value\": 365}, {\"year\": 1950, \"variable\": \"TMAX\", \"value\": 365}, {\"year\": 1938, \"variable\": \"TMAX\", \"value\": 0}, {\"year\": 1965, \"variable\": \"TMAX\", \"value\": 365}, {\"year\": 1947, \"variable\": \"TMAX\", \"value\": 365}, {\"year\": 1962, \"variable\": \"TMAX\", \"value\": 365}, {\"year\": 1953, \"variable\": \"TMAX\", \"value\": 365}, {\"year\": 1968, \"variable\": \"TMIN\", \"value\": 366}, {\"year\": 1974, \"variable\": \"TMIN\", \"value\": 365}, {\"year\": 1977, \"variable\": \"TMIN\", \"value\": 365}, {\"year\": 1995, \"variable\": \"TMIN\", \"value\": 365}, {\"year\": 1989, \"variable\": \"TMIN\", \"value\": 365}, {\"year\": 2013, \"variable\": \"TMIN\", \"value\": 365}, {\"year\": 1983, \"variable\": \"TMIN\", \"value\": 365}, {\"year\": 1992, \"variable\": \"TMIN\", \"value\": 366}, {\"year\": 1986, \"variable\": \"TMIN\", \"value\": 365}, {\"year\": 2001, \"variable\": \"TMIN\", \"value\": 365}, {\"year\": 2010, \"variable\": \"TMIN\", \"value\": 365}, {\"year\": 1971, \"variable\": \"TMIN\", \"value\": 365}, {\"year\": 1980, \"variable\": \"TMIN\", \"value\": 366}, {\"year\": 1998, \"variable\": \"TMIN\", \"value\": 365}, {\"year\": 2007, \"variable\": \"TMIN\", \"value\": 365}, {\"year\": 2004, \"variable\": \"TMIN\", \"value\": 366}, {\"year\": 2019, \"variable\": \"TMIN\", \"value\": 365}, {\"year\": 2022, \"variable\": \"TMIN\", \"value\": 365}, {\"year\": 2016, \"variable\": \"TMIN\", \"value\": 366}, {\"year\": 1981, \"variable\": \"TMIN\", \"value\": 365}, {\"year\": 1945, \"variable\": \"TMIN\", \"value\": 365}, {\"year\": 1948, \"variable\": \"TMIN\", \"value\": 366}, {\"year\": 1969, \"variable\": \"TMIN\", \"value\": 365}, {\"year\": 1951, \"variable\": \"TMIN\", \"value\": 365}, {\"year\": 1975, \"variable\": \"TMIN\", \"value\": 365}, {\"year\": 1957, \"variable\": \"TMIN\", \"value\": 365}, {\"year\": 1972, \"variable\": \"TMIN\", \"value\": 366}, {\"year\": 1963, \"variable\": \"TMIN\", \"value\": 365}, {\"year\": 1936, \"variable\": \"TMIN\", \"value\": 0}, {\"year\": 1939, \"variable\": \"TMIN\", \"value\": 0}, {\"year\": 1978, \"variable\": \"TMIN\", \"value\": 365}, {\"year\": 1954, \"variable\": \"TMIN\", \"value\": 365}, {\"year\": 1966, \"variable\": \"TMIN\", \"value\": 365}, {\"year\": 1960, \"variable\": \"TMIN\", \"value\": 366}, {\"year\": 1942, \"variable\": \"TMIN\", \"value\": 365}, {\"year\": 2008, \"variable\": \"TMIN\", \"value\": 366}, {\"year\": 2002, \"variable\": \"TMIN\", \"value\": 365}, {\"year\": 1996, \"variable\": \"TMIN\", \"value\": 366}, {\"year\": 1987, \"variable\": \"TMIN\", \"value\": 365}, {\"year\": 1984, \"variable\": \"TMIN\", \"value\": 366}, {\"year\": 2014, \"variable\": \"TMIN\", \"value\": 365}, {\"year\": 1990, \"variable\": \"TMIN\", \"value\": 365}, {\"year\": 1993, \"variable\": \"TMIN\", \"value\": 365}, {\"year\": 1999, \"variable\": \"TMIN\", \"value\": 365}, {\"year\": 2023, \"variable\": \"TMIN\", \"value\": 365}, {\"year\": 2017, \"variable\": \"TMIN\", \"value\": 365}, {\"year\": 2020, \"variable\": \"TMIN\", \"value\": 366}, {\"year\": 2011, \"variable\": \"TMIN\", \"value\": 365}, {\"year\": 2005, \"variable\": \"TMIN\", \"value\": 365}, {\"year\": 1937, \"variable\": \"TMIN\", \"value\": 0}, {\"year\": 1943, \"variable\": \"TMIN\", \"value\": 365}, {\"year\": 1940, \"variable\": \"TMIN\", \"value\": 0}, {\"year\": 1949, \"variable\": \"TMIN\", \"value\": 365}, {\"year\": 1946, \"variable\": \"TMIN\", \"value\": 365}, {\"year\": 1982, \"variable\": \"TMIN\", \"value\": 365}, {\"year\": 1967, \"variable\": \"TMIN\", \"value\": 365}, {\"year\": 1988, \"variable\": \"TMIN\", \"value\": 366}, {\"year\": 1973, \"variable\": \"TMIN\", \"value\": 365}, {\"year\": 1976, \"variable\": \"TMIN\", \"value\": 366}, {\"year\": 1991, \"variable\": \"TMIN\", \"value\": 365}, {\"year\": 1964, \"variable\": \"TMIN\", \"value\": 366}, {\"year\": 1952, \"variable\": \"TMIN\", \"value\": 366}, {\"year\": 1979, \"variable\": \"TMIN\", \"value\": 365}, {\"year\": 1955, \"variable\": \"TMIN\", \"value\": 365}, {\"year\": 1985, \"variable\": \"TMIN\", \"value\": 365}, {\"year\": 1958, \"variable\": \"TMIN\", \"value\": 365}, {\"year\": 1961, \"variable\": \"TMIN\", \"value\": 365}, {\"year\": 1970, \"variable\": \"TMIN\", \"value\": 365}, {\"year\": 1994, \"variable\": \"TMIN\", \"value\": 365}, {\"year\": 1997, \"variable\": \"TMIN\", \"value\": 365}, {\"year\": 2021, \"variable\": \"TMIN\", \"value\": 365}, {\"year\": 2000, \"variable\": \"TMIN\", \"value\": 366}, {\"year\": 2006, \"variable\": \"TMIN\", \"value\": 365}, {\"year\": 2018, \"variable\": \"TMIN\", \"value\": 365}, {\"year\": 2003, \"variable\": \"TMIN\", \"value\": 365}, {\"year\": 2015, \"variable\": \"TMIN\", \"value\": 365}, {\"year\": 2012, \"variable\": \"TMIN\", \"value\": 366}, {\"year\": 2009, \"variable\": \"TMIN\", \"value\": 365}, {\"year\": 2024, \"variable\": \"TMIN\", \"value\": 55}, {\"year\": 1941, \"variable\": \"TMIN\", \"value\": 199}, {\"year\": 1956, \"variable\": \"TMIN\", \"value\": 366}, {\"year\": 1944, \"variable\": \"TMIN\", \"value\": 366}, {\"year\": 1959, \"variable\": \"TMIN\", \"value\": 365}, {\"year\": 1950, \"variable\": \"TMIN\", \"value\": 365}, {\"year\": 1938, \"variable\": \"TMIN\", \"value\": 0}, {\"year\": 1965, \"variable\": \"TMIN\", \"value\": 365}, {\"year\": 1947, \"variable\": \"TMIN\", \"value\": 365}, {\"year\": 1962, \"variable\": \"TMIN\", \"value\": 365}, {\"year\": 1953, \"variable\": \"TMIN\", \"value\": 365}]}}, {\"mode\": \"vega-lite\"});\n",
       "</script>"
      ],
      "text/plain": [
       "alt.Chart(...)"
      ]
     },
     "execution_count": 33,
     "metadata": {},
     "output_type": "execute_result"
    }
   ],
   "source": [
    "counts = (\n",
    "    raw\n",
    "    .with_columns(year=pl.col(\"DATE\").dt.year())\n",
    "    .group_by('year')\n",
    "    .agg(pl.col(\"^T.*$\").count())\n",
    ")\n",
    "\n",
    "print(counts.head())\n",
    "\n",
    "(\n",
    "    alt.Chart(counts.melt(id_vars='year'))\n",
    "    .encode(x='year', y='value', color='variable')\n",
    "    .mark_line()\n",
    ")"
   ]
  }
 ],
 "metadata": {
  "kernelspec": {
   "display_name": ".venv",
   "language": "python",
   "name": "python3"
  },
  "language_info": {
   "codemirror_mode": {
    "name": "ipython",
    "version": 3
   },
   "file_extension": ".py",
   "mimetype": "text/x-python",
   "name": "python",
   "nbconvert_exporter": "python",
   "pygments_lexer": "ipython3",
   "version": "3.10.13"
  }
 },
 "nbformat": 4,
 "nbformat_minor": 2
}
